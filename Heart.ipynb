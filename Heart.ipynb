{
 "cells": [
  {
   "cell_type": "code",
   "execution_count": 1,
   "id": "1ed55cc5-45c6-4d50-aa08-d8303b9a7c66",
   "metadata": {},
   "outputs": [],
   "source": [
    "#Imports library"
   ]
  },
  {
   "cell_type": "code",
   "execution_count": 6,
   "id": "99ff429b-09f5-4327-84f1-ad9415751986",
   "metadata": {},
   "outputs": [],
   "source": [
    "import numpy as np\n",
    "import pandas as pd\n",
    "import matplotlib.pyplot as plt\n",
    "import seaborn as sns\n",
    "import warnings\n",
    "from sklearn.model_selection import train_test_split\n",
    "from sklearn.linear_model import LogisticRegression\n",
    "from sklearn.metrics import accuracy_score"
   ]
  },
  {
   "cell_type": "code",
   "execution_count": 8,
   "id": "00710c5c-a3f9-47cc-9d55-b6b31c18bca6",
   "metadata": {},
   "outputs": [],
   "source": [
    "# Read the CSV file into a DataFrame\n",
    "heart_data=pd.read_csv(\"../Assignment/heart.csv\")"
   ]
  },
  {
   "cell_type": "code",
   "execution_count": 4,
   "id": "4dc0b4bd-ffc1-4d2e-875a-95fde7acccee",
   "metadata": {},
   "outputs": [],
   "source": [
    "# What factors influence the likelihood of heart disease in patients according to the dataset? "
   ]
  },
  {
   "cell_type": "code",
   "execution_count": 10,
   "id": "d41185e3-02ae-481d-9c92-c52ef965a8b9",
   "metadata": {},
   "outputs": [
    {
     "data": {
      "text/html": [
       "<div>\n",
       "<style scoped>\n",
       "    .dataframe tbody tr th:only-of-type {\n",
       "        vertical-align: middle;\n",
       "    }\n",
       "\n",
       "    .dataframe tbody tr th {\n",
       "        vertical-align: top;\n",
       "    }\n",
       "\n",
       "    .dataframe thead th {\n",
       "        text-align: right;\n",
       "    }\n",
       "</style>\n",
       "<table border=\"1\" class=\"dataframe\">\n",
       "  <thead>\n",
       "    <tr style=\"text-align: right;\">\n",
       "      <th></th>\n",
       "      <th>age</th>\n",
       "      <th>sex</th>\n",
       "      <th>cp</th>\n",
       "      <th>trestbps</th>\n",
       "      <th>chol</th>\n",
       "      <th>fbs</th>\n",
       "      <th>restecg</th>\n",
       "      <th>thalach</th>\n",
       "      <th>exang</th>\n",
       "      <th>oldpeak</th>\n",
       "      <th>slope</th>\n",
       "      <th>ca</th>\n",
       "      <th>thal</th>\n",
       "      <th>target</th>\n",
       "    </tr>\n",
       "  </thead>\n",
       "  <tbody>\n",
       "    <tr>\n",
       "      <th>0</th>\n",
       "      <td>63</td>\n",
       "      <td>1</td>\n",
       "      <td>3</td>\n",
       "      <td>145</td>\n",
       "      <td>233</td>\n",
       "      <td>1</td>\n",
       "      <td>0</td>\n",
       "      <td>150</td>\n",
       "      <td>0</td>\n",
       "      <td>2.3</td>\n",
       "      <td>0</td>\n",
       "      <td>0</td>\n",
       "      <td>1</td>\n",
       "      <td>1</td>\n",
       "    </tr>\n",
       "    <tr>\n",
       "      <th>1</th>\n",
       "      <td>37</td>\n",
       "      <td>1</td>\n",
       "      <td>2</td>\n",
       "      <td>130</td>\n",
       "      <td>250</td>\n",
       "      <td>0</td>\n",
       "      <td>1</td>\n",
       "      <td>187</td>\n",
       "      <td>0</td>\n",
       "      <td>3.5</td>\n",
       "      <td>0</td>\n",
       "      <td>0</td>\n",
       "      <td>2</td>\n",
       "      <td>1</td>\n",
       "    </tr>\n",
       "    <tr>\n",
       "      <th>2</th>\n",
       "      <td>41</td>\n",
       "      <td>0</td>\n",
       "      <td>1</td>\n",
       "      <td>130</td>\n",
       "      <td>204</td>\n",
       "      <td>0</td>\n",
       "      <td>0</td>\n",
       "      <td>172</td>\n",
       "      <td>0</td>\n",
       "      <td>1.4</td>\n",
       "      <td>2</td>\n",
       "      <td>0</td>\n",
       "      <td>2</td>\n",
       "      <td>1</td>\n",
       "    </tr>\n",
       "    <tr>\n",
       "      <th>3</th>\n",
       "      <td>56</td>\n",
       "      <td>1</td>\n",
       "      <td>1</td>\n",
       "      <td>120</td>\n",
       "      <td>236</td>\n",
       "      <td>0</td>\n",
       "      <td>1</td>\n",
       "      <td>178</td>\n",
       "      <td>0</td>\n",
       "      <td>0.8</td>\n",
       "      <td>2</td>\n",
       "      <td>0</td>\n",
       "      <td>2</td>\n",
       "      <td>1</td>\n",
       "    </tr>\n",
       "    <tr>\n",
       "      <th>4</th>\n",
       "      <td>57</td>\n",
       "      <td>0</td>\n",
       "      <td>0</td>\n",
       "      <td>120</td>\n",
       "      <td>354</td>\n",
       "      <td>0</td>\n",
       "      <td>1</td>\n",
       "      <td>163</td>\n",
       "      <td>1</td>\n",
       "      <td>0.6</td>\n",
       "      <td>2</td>\n",
       "      <td>0</td>\n",
       "      <td>2</td>\n",
       "      <td>1</td>\n",
       "    </tr>\n",
       "  </tbody>\n",
       "</table>\n",
       "</div>"
      ],
      "text/plain": [
       "   age  sex  cp  trestbps  chol  fbs  restecg  thalach  exang  oldpeak  slope  \\\n",
       "0   63    1   3       145   233    1        0      150      0      2.3      0   \n",
       "1   37    1   2       130   250    0        1      187      0      3.5      0   \n",
       "2   41    0   1       130   204    0        0      172      0      1.4      2   \n",
       "3   56    1   1       120   236    0        1      178      0      0.8      2   \n",
       "4   57    0   0       120   354    0        1      163      1      0.6      2   \n",
       "\n",
       "   ca  thal  target  \n",
       "0   0     1       1  \n",
       "1   0     2       1  \n",
       "2   0     2       1  \n",
       "3   0     2       1  \n",
       "4   0     2       1  "
      ]
     },
     "execution_count": 10,
     "metadata": {},
     "output_type": "execute_result"
    }
   ],
   "source": [
    "#Print the first 5 rows of the dataset\n",
    "heart_data.head()"
   ]
  },
  {
   "cell_type": "code",
   "execution_count": null,
   "id": "96c01fe8-1021-4afe-ae38-14a1aa1110f1",
   "metadata": {},
   "outputs": [],
   "source": []
  },
  {
   "cell_type": "code",
   "execution_count": 5,
   "id": "07b66a16-80e7-4644-991a-565d675b6fd4",
   "metadata": {},
   "outputs": [
    {
     "data": {
      "text/html": [
       "<div>\n",
       "<style scoped>\n",
       "    .dataframe tbody tr th:only-of-type {\n",
       "        vertical-align: middle;\n",
       "    }\n",
       "\n",
       "    .dataframe tbody tr th {\n",
       "        vertical-align: top;\n",
       "    }\n",
       "\n",
       "    .dataframe thead th {\n",
       "        text-align: right;\n",
       "    }\n",
       "</style>\n",
       "<table border=\"1\" class=\"dataframe\">\n",
       "  <thead>\n",
       "    <tr style=\"text-align: right;\">\n",
       "      <th></th>\n",
       "      <th>age</th>\n",
       "      <th>sex</th>\n",
       "      <th>cp</th>\n",
       "      <th>trestbps</th>\n",
       "      <th>chol</th>\n",
       "      <th>fbs</th>\n",
       "      <th>restecg</th>\n",
       "      <th>thalach</th>\n",
       "      <th>exang</th>\n",
       "      <th>oldpeak</th>\n",
       "      <th>slope</th>\n",
       "      <th>ca</th>\n",
       "      <th>thal</th>\n",
       "      <th>target</th>\n",
       "    </tr>\n",
       "  </thead>\n",
       "  <tbody>\n",
       "    <tr>\n",
       "      <th>298</th>\n",
       "      <td>57</td>\n",
       "      <td>0</td>\n",
       "      <td>0</td>\n",
       "      <td>140</td>\n",
       "      <td>241</td>\n",
       "      <td>0</td>\n",
       "      <td>1</td>\n",
       "      <td>123</td>\n",
       "      <td>1</td>\n",
       "      <td>0.2</td>\n",
       "      <td>1</td>\n",
       "      <td>0</td>\n",
       "      <td>3</td>\n",
       "      <td>0</td>\n",
       "    </tr>\n",
       "    <tr>\n",
       "      <th>299</th>\n",
       "      <td>45</td>\n",
       "      <td>1</td>\n",
       "      <td>3</td>\n",
       "      <td>110</td>\n",
       "      <td>264</td>\n",
       "      <td>0</td>\n",
       "      <td>1</td>\n",
       "      <td>132</td>\n",
       "      <td>0</td>\n",
       "      <td>1.2</td>\n",
       "      <td>1</td>\n",
       "      <td>0</td>\n",
       "      <td>3</td>\n",
       "      <td>0</td>\n",
       "    </tr>\n",
       "    <tr>\n",
       "      <th>300</th>\n",
       "      <td>68</td>\n",
       "      <td>1</td>\n",
       "      <td>0</td>\n",
       "      <td>144</td>\n",
       "      <td>193</td>\n",
       "      <td>1</td>\n",
       "      <td>1</td>\n",
       "      <td>141</td>\n",
       "      <td>0</td>\n",
       "      <td>3.4</td>\n",
       "      <td>1</td>\n",
       "      <td>2</td>\n",
       "      <td>3</td>\n",
       "      <td>0</td>\n",
       "    </tr>\n",
       "    <tr>\n",
       "      <th>301</th>\n",
       "      <td>57</td>\n",
       "      <td>1</td>\n",
       "      <td>0</td>\n",
       "      <td>130</td>\n",
       "      <td>131</td>\n",
       "      <td>0</td>\n",
       "      <td>1</td>\n",
       "      <td>115</td>\n",
       "      <td>1</td>\n",
       "      <td>1.2</td>\n",
       "      <td>1</td>\n",
       "      <td>1</td>\n",
       "      <td>3</td>\n",
       "      <td>0</td>\n",
       "    </tr>\n",
       "    <tr>\n",
       "      <th>302</th>\n",
       "      <td>57</td>\n",
       "      <td>0</td>\n",
       "      <td>1</td>\n",
       "      <td>130</td>\n",
       "      <td>236</td>\n",
       "      <td>0</td>\n",
       "      <td>0</td>\n",
       "      <td>174</td>\n",
       "      <td>0</td>\n",
       "      <td>0.0</td>\n",
       "      <td>1</td>\n",
       "      <td>1</td>\n",
       "      <td>2</td>\n",
       "      <td>0</td>\n",
       "    </tr>\n",
       "  </tbody>\n",
       "</table>\n",
       "</div>"
      ],
      "text/plain": [
       "     age  sex  cp  trestbps  chol  fbs  restecg  thalach  exang  oldpeak  \\\n",
       "298   57    0   0       140   241    0        1      123      1      0.2   \n",
       "299   45    1   3       110   264    0        1      132      0      1.2   \n",
       "300   68    1   0       144   193    1        1      141      0      3.4   \n",
       "301   57    1   0       130   131    0        1      115      1      1.2   \n",
       "302   57    0   1       130   236    0        0      174      0      0.0   \n",
       "\n",
       "     slope  ca  thal  target  \n",
       "298      1   0     3       0  \n",
       "299      1   0     3       0  \n",
       "300      1   2     3       0  \n",
       "301      1   1     3       0  \n",
       "302      1   1     2       0  "
      ]
     },
     "execution_count": 5,
     "metadata": {},
     "output_type": "execute_result"
    }
   ],
   "source": [
    "#Print the last 5 rows of the dataset\n",
    "heart_data.tail()"
   ]
  },
  {
   "cell_type": "code",
   "execution_count": 6,
   "id": "356f4e01-65a8-47cf-81f8-4574b69329a5",
   "metadata": {},
   "outputs": [
    {
     "data": {
      "text/plain": [
       "(303, 14)"
      ]
     },
     "execution_count": 6,
     "metadata": {},
     "output_type": "execute_result"
    }
   ],
   "source": [
    "#Number of rows and columns\n",
    "heart_data.shape"
   ]
  },
  {
   "cell_type": "code",
   "execution_count": 7,
   "id": "b190b796-2914-40d7-b0ef-a09375ed07b7",
   "metadata": {},
   "outputs": [
    {
     "name": "stdout",
     "output_type": "stream",
     "text": [
      "<class 'pandas.core.frame.DataFrame'>\n",
      "RangeIndex: 303 entries, 0 to 302\n",
      "Data columns (total 14 columns):\n",
      " #   Column    Non-Null Count  Dtype  \n",
      "---  ------    --------------  -----  \n",
      " 0   age       303 non-null    int64  \n",
      " 1   sex       303 non-null    int64  \n",
      " 2   cp        303 non-null    int64  \n",
      " 3   trestbps  303 non-null    int64  \n",
      " 4   chol      303 non-null    int64  \n",
      " 5   fbs       303 non-null    int64  \n",
      " 6   restecg   303 non-null    int64  \n",
      " 7   thalach   303 non-null    int64  \n",
      " 8   exang     303 non-null    int64  \n",
      " 9   oldpeak   303 non-null    float64\n",
      " 10  slope     303 non-null    int64  \n",
      " 11  ca        303 non-null    int64  \n",
      " 12  thal      303 non-null    int64  \n",
      " 13  target    303 non-null    int64  \n",
      "dtypes: float64(1), int64(13)\n",
      "memory usage: 33.3 KB\n"
     ]
    }
   ],
   "source": [
    "#Getting some info about the data\n",
    "heart_data.info()"
   ]
  },
  {
   "cell_type": "code",
   "execution_count": 8,
   "id": "f5bc1cc4-0d06-4e72-a750-0c03773e8f3c",
   "metadata": {},
   "outputs": [
    {
     "data": {
      "text/plain": [
       "age         0\n",
       "sex         0\n",
       "cp          0\n",
       "trestbps    0\n",
       "chol        0\n",
       "fbs         0\n",
       "restecg     0\n",
       "thalach     0\n",
       "exang       0\n",
       "oldpeak     0\n",
       "slope       0\n",
       "ca          0\n",
       "thal        0\n",
       "target      0\n",
       "dtype: int64"
      ]
     },
     "execution_count": 8,
     "metadata": {},
     "output_type": "execute_result"
    }
   ],
   "source": [
    "#Checking for missing values\n",
    "heart_data.isnull().sum()\n",
    "#No missing values"
   ]
  },
  {
   "cell_type": "code",
   "execution_count": 9,
   "id": "fc0809f4-ae4d-4b8b-80ce-78e446d876d5",
   "metadata": {},
   "outputs": [
    {
     "data": {
      "text/html": [
       "<div>\n",
       "<style scoped>\n",
       "    .dataframe tbody tr th:only-of-type {\n",
       "        vertical-align: middle;\n",
       "    }\n",
       "\n",
       "    .dataframe tbody tr th {\n",
       "        vertical-align: top;\n",
       "    }\n",
       "\n",
       "    .dataframe thead th {\n",
       "        text-align: right;\n",
       "    }\n",
       "</style>\n",
       "<table border=\"1\" class=\"dataframe\">\n",
       "  <thead>\n",
       "    <tr style=\"text-align: right;\">\n",
       "      <th></th>\n",
       "      <th>age</th>\n",
       "      <th>sex</th>\n",
       "      <th>cp</th>\n",
       "      <th>trestbps</th>\n",
       "      <th>chol</th>\n",
       "      <th>fbs</th>\n",
       "      <th>restecg</th>\n",
       "      <th>thalach</th>\n",
       "      <th>exang</th>\n",
       "      <th>oldpeak</th>\n",
       "      <th>slope</th>\n",
       "      <th>ca</th>\n",
       "      <th>thal</th>\n",
       "      <th>target</th>\n",
       "    </tr>\n",
       "  </thead>\n",
       "  <tbody>\n",
       "    <tr>\n",
       "      <th>count</th>\n",
       "      <td>303.000000</td>\n",
       "      <td>303.000000</td>\n",
       "      <td>303.000000</td>\n",
       "      <td>303.000000</td>\n",
       "      <td>303.000000</td>\n",
       "      <td>303.000000</td>\n",
       "      <td>303.000000</td>\n",
       "      <td>303.000000</td>\n",
       "      <td>303.000000</td>\n",
       "      <td>303.000000</td>\n",
       "      <td>303.000000</td>\n",
       "      <td>303.000000</td>\n",
       "      <td>303.000000</td>\n",
       "      <td>303.000000</td>\n",
       "    </tr>\n",
       "    <tr>\n",
       "      <th>mean</th>\n",
       "      <td>54.366337</td>\n",
       "      <td>0.683168</td>\n",
       "      <td>0.966997</td>\n",
       "      <td>131.623762</td>\n",
       "      <td>246.264026</td>\n",
       "      <td>0.148515</td>\n",
       "      <td>0.528053</td>\n",
       "      <td>149.646865</td>\n",
       "      <td>0.326733</td>\n",
       "      <td>1.039604</td>\n",
       "      <td>1.399340</td>\n",
       "      <td>0.729373</td>\n",
       "      <td>2.313531</td>\n",
       "      <td>0.544554</td>\n",
       "    </tr>\n",
       "    <tr>\n",
       "      <th>std</th>\n",
       "      <td>9.082101</td>\n",
       "      <td>0.466011</td>\n",
       "      <td>1.032052</td>\n",
       "      <td>17.538143</td>\n",
       "      <td>51.830751</td>\n",
       "      <td>0.356198</td>\n",
       "      <td>0.525860</td>\n",
       "      <td>22.905161</td>\n",
       "      <td>0.469794</td>\n",
       "      <td>1.161075</td>\n",
       "      <td>0.616226</td>\n",
       "      <td>1.022606</td>\n",
       "      <td>0.612277</td>\n",
       "      <td>0.498835</td>\n",
       "    </tr>\n",
       "    <tr>\n",
       "      <th>min</th>\n",
       "      <td>29.000000</td>\n",
       "      <td>0.000000</td>\n",
       "      <td>0.000000</td>\n",
       "      <td>94.000000</td>\n",
       "      <td>126.000000</td>\n",
       "      <td>0.000000</td>\n",
       "      <td>0.000000</td>\n",
       "      <td>71.000000</td>\n",
       "      <td>0.000000</td>\n",
       "      <td>0.000000</td>\n",
       "      <td>0.000000</td>\n",
       "      <td>0.000000</td>\n",
       "      <td>0.000000</td>\n",
       "      <td>0.000000</td>\n",
       "    </tr>\n",
       "    <tr>\n",
       "      <th>25%</th>\n",
       "      <td>47.500000</td>\n",
       "      <td>0.000000</td>\n",
       "      <td>0.000000</td>\n",
       "      <td>120.000000</td>\n",
       "      <td>211.000000</td>\n",
       "      <td>0.000000</td>\n",
       "      <td>0.000000</td>\n",
       "      <td>133.500000</td>\n",
       "      <td>0.000000</td>\n",
       "      <td>0.000000</td>\n",
       "      <td>1.000000</td>\n",
       "      <td>0.000000</td>\n",
       "      <td>2.000000</td>\n",
       "      <td>0.000000</td>\n",
       "    </tr>\n",
       "    <tr>\n",
       "      <th>50%</th>\n",
       "      <td>55.000000</td>\n",
       "      <td>1.000000</td>\n",
       "      <td>1.000000</td>\n",
       "      <td>130.000000</td>\n",
       "      <td>240.000000</td>\n",
       "      <td>0.000000</td>\n",
       "      <td>1.000000</td>\n",
       "      <td>153.000000</td>\n",
       "      <td>0.000000</td>\n",
       "      <td>0.800000</td>\n",
       "      <td>1.000000</td>\n",
       "      <td>0.000000</td>\n",
       "      <td>2.000000</td>\n",
       "      <td>1.000000</td>\n",
       "    </tr>\n",
       "    <tr>\n",
       "      <th>75%</th>\n",
       "      <td>61.000000</td>\n",
       "      <td>1.000000</td>\n",
       "      <td>2.000000</td>\n",
       "      <td>140.000000</td>\n",
       "      <td>274.500000</td>\n",
       "      <td>0.000000</td>\n",
       "      <td>1.000000</td>\n",
       "      <td>166.000000</td>\n",
       "      <td>1.000000</td>\n",
       "      <td>1.600000</td>\n",
       "      <td>2.000000</td>\n",
       "      <td>1.000000</td>\n",
       "      <td>3.000000</td>\n",
       "      <td>1.000000</td>\n",
       "    </tr>\n",
       "    <tr>\n",
       "      <th>max</th>\n",
       "      <td>77.000000</td>\n",
       "      <td>1.000000</td>\n",
       "      <td>3.000000</td>\n",
       "      <td>200.000000</td>\n",
       "      <td>564.000000</td>\n",
       "      <td>1.000000</td>\n",
       "      <td>2.000000</td>\n",
       "      <td>202.000000</td>\n",
       "      <td>1.000000</td>\n",
       "      <td>6.200000</td>\n",
       "      <td>2.000000</td>\n",
       "      <td>4.000000</td>\n",
       "      <td>3.000000</td>\n",
       "      <td>1.000000</td>\n",
       "    </tr>\n",
       "  </tbody>\n",
       "</table>\n",
       "</div>"
      ],
      "text/plain": [
       "              age         sex          cp    trestbps        chol         fbs  \\\n",
       "count  303.000000  303.000000  303.000000  303.000000  303.000000  303.000000   \n",
       "mean    54.366337    0.683168    0.966997  131.623762  246.264026    0.148515   \n",
       "std      9.082101    0.466011    1.032052   17.538143   51.830751    0.356198   \n",
       "min     29.000000    0.000000    0.000000   94.000000  126.000000    0.000000   \n",
       "25%     47.500000    0.000000    0.000000  120.000000  211.000000    0.000000   \n",
       "50%     55.000000    1.000000    1.000000  130.000000  240.000000    0.000000   \n",
       "75%     61.000000    1.000000    2.000000  140.000000  274.500000    0.000000   \n",
       "max     77.000000    1.000000    3.000000  200.000000  564.000000    1.000000   \n",
       "\n",
       "          restecg     thalach       exang     oldpeak       slope          ca  \\\n",
       "count  303.000000  303.000000  303.000000  303.000000  303.000000  303.000000   \n",
       "mean     0.528053  149.646865    0.326733    1.039604    1.399340    0.729373   \n",
       "std      0.525860   22.905161    0.469794    1.161075    0.616226    1.022606   \n",
       "min      0.000000   71.000000    0.000000    0.000000    0.000000    0.000000   \n",
       "25%      0.000000  133.500000    0.000000    0.000000    1.000000    0.000000   \n",
       "50%      1.000000  153.000000    0.000000    0.800000    1.000000    0.000000   \n",
       "75%      1.000000  166.000000    1.000000    1.600000    2.000000    1.000000   \n",
       "max      2.000000  202.000000    1.000000    6.200000    2.000000    4.000000   \n",
       "\n",
       "             thal      target  \n",
       "count  303.000000  303.000000  \n",
       "mean     2.313531    0.544554  \n",
       "std      0.612277    0.498835  \n",
       "min      0.000000    0.000000  \n",
       "25%      2.000000    0.000000  \n",
       "50%      2.000000    1.000000  \n",
       "75%      3.000000    1.000000  \n",
       "max      3.000000    1.000000  "
      ]
     },
     "execution_count": 9,
     "metadata": {},
     "output_type": "execute_result"
    }
   ],
   "source": [
    "#Get statistical measures about the data\n",
    "heart_data.describe()"
   ]
  },
  {
   "cell_type": "code",
   "execution_count": 10,
   "id": "fcb2365e-f069-45e9-8ece-81b8a3335fbf",
   "metadata": {},
   "outputs": [
    {
     "data": {
      "text/plain": [
       "target\n",
       "1    165\n",
       "0    138\n",
       "Name: count, dtype: int64"
      ]
     },
     "execution_count": 10,
     "metadata": {},
     "output_type": "execute_result"
    }
   ],
   "source": [
    "#Checing the distribution of target variable\n",
    "heart_data['target'].value_counts()\n",
    "#1 have defects, 0 not present (Healthy)"
   ]
  },
  {
   "cell_type": "code",
   "execution_count": 14,
   "id": "9f84d09e-fcb1-4f17-98c2-b165359e907c",
   "metadata": {},
   "outputs": [],
   "source": [
    "#Split the features and Targets\n",
    "X = heart_data.drop(columns='target', axis=1)\n",
    "Y = heart_data['target']"
   ]
  },
  {
   "cell_type": "code",
   "execution_count": 12,
   "id": "550279af-1c06-40ae-a82d-5efd1118fe96",
   "metadata": {},
   "outputs": [
    {
     "name": "stdout",
     "output_type": "stream",
     "text": [
      "     age  sex  cp  trestbps  chol  fbs  restecg  thalach  exang  oldpeak  \\\n",
      "0     63    1   3       145   233    1        0      150      0      2.3   \n",
      "1     37    1   2       130   250    0        1      187      0      3.5   \n",
      "2     41    0   1       130   204    0        0      172      0      1.4   \n",
      "3     56    1   1       120   236    0        1      178      0      0.8   \n",
      "4     57    0   0       120   354    0        1      163      1      0.6   \n",
      "..   ...  ...  ..       ...   ...  ...      ...      ...    ...      ...   \n",
      "298   57    0   0       140   241    0        1      123      1      0.2   \n",
      "299   45    1   3       110   264    0        1      132      0      1.2   \n",
      "300   68    1   0       144   193    1        1      141      0      3.4   \n",
      "301   57    1   0       130   131    0        1      115      1      1.2   \n",
      "302   57    0   1       130   236    0        0      174      0      0.0   \n",
      "\n",
      "     slope  ca  thal  \n",
      "0        0   0     1  \n",
      "1        0   0     2  \n",
      "2        2   0     2  \n",
      "3        2   0     2  \n",
      "4        2   0     2  \n",
      "..     ...  ..   ...  \n",
      "298      1   0     3  \n",
      "299      1   0     3  \n",
      "300      1   2     3  \n",
      "301      1   1     3  \n",
      "302      1   1     2  \n",
      "\n",
      "[303 rows x 13 columns]\n"
     ]
    }
   ],
   "source": [
    "print (X)"
   ]
  },
  {
   "cell_type": "code",
   "execution_count": 13,
   "id": "ea5624bc-a07c-4e66-8136-336a800af642",
   "metadata": {},
   "outputs": [
    {
     "name": "stdout",
     "output_type": "stream",
     "text": [
      "0      1\n",
      "1      1\n",
      "2      1\n",
      "3      1\n",
      "4      1\n",
      "      ..\n",
      "298    0\n",
      "299    0\n",
      "300    0\n",
      "301    0\n",
      "302    0\n",
      "Name: target, Length: 303, dtype: int64\n"
     ]
    }
   ],
   "source": [
    "print(Y)"
   ]
  },
  {
   "cell_type": "code",
   "execution_count": 6,
   "id": "6532c870-3457-4e7f-a8ed-16f08158d6d6",
   "metadata": {},
   "outputs": [],
   "source": [
    "# What is the distribution of cholesterol levels among patients with heart disease, and how does it compare to those without heart disease? Please visualize this using a histogram or a density plot. "
   ]
  },
  {
   "cell_type": "code",
   "execution_count": 14,
   "id": "b0e510b5-e4cd-458e-b9ee-c86f50980f9a",
   "metadata": {},
   "outputs": [
    {
     "data": {
      "image/png": "[encoded data removed]",
      "text/plain": [
       "<Figure size 1000x600 with 1 Axes>"
      ]
     },
     "metadata": {},
     "output_type": "display_data"
    }
   ],
   "source": [
    "# Set up the figure and axis\n",
    "plt.figure(figsize=(10, 6))\n",
    "\n",
    "# Plot density plot for cholesterol levels of patients with heart disease\n",
    "sns.histplot(heart_data[heart_data['target'] == 1]['chol'], color='blue', label='Heart Disease', kde=True)\n",
    "\n",
    "# Plot density plot for cholesterol levels of patients without heart disease\n",
    "sns.histplot(heart_data[heart_data['target'] == 0]['chol'], color='red', label='No Heart Disease', kde=True)\n",
    "\n",
    "# Set labels and title\n",
    "plt.xlabel('Cholesterol Level')\n",
    "plt.ylabel('Density')\n",
    "plt.title('Distribution of Cholesterol Levels')\n",
    "plt.legend()\n",
    "\n",
    "# Show the plot\n",
    "plt.show()\n"
   ]
  },
  {
   "cell_type": "code",
   "execution_count": 10,
   "id": "65a60551-acd1-4ff3-9cff-dab0911a0e68",
   "metadata": {},
   "outputs": [],
   "source": [
    "# Is there a relationship between the number of chest pain types experienced by patients and the likelihood of heart disease? "
   ]
  },
  {
   "cell_type": "code",
   "execution_count": 15,
   "id": "305e0aa5-baed-47be-9641-4be4e381151c",
   "metadata": {},
   "outputs": [
    {
     "data": {
      "image/png": "[encoded data removed]",
      "text/plain": [
       "<Figure size 640x480 with 1 Axes>"
      ]
     },
     "metadata": {},
     "output_type": "display_data"
    }
   ],
   "source": [
    "cross_tab = pd.crosstab(heart_data['cp'], heart_data['target'])\n",
    "cross_tab.plot(kind='bar', stacked=True)\n",
    "plt.xlabel('Number of Chest Pain Types')\n",
    "plt.ylabel('Count')\n",
    "plt.title('Distribution of Heart Disease by Chest Pain Types')\n",
    "plt.legend(title='Heart Disease', labels=['No', 'Yes'])\n",
    "plt.show()\n"
   ]
  },
  {
   "cell_type": "code",
   "execution_count": 8,
   "id": "660f2bbe-aa25-4623-a9a4-7d0f5a471a70",
   "metadata": {},
   "outputs": [],
   "source": [
    "# Can you use a heatmap to depict the correlation between different variables in the dataset, such as age, cholesterol levels, and maximum heart rate achieved?"
   ]
  },
  {
   "cell_type": "code",
   "execution_count": 16,
   "id": "3cf73eab-366e-48e8-94b5-841088c931dd",
   "metadata": {},
   "outputs": [
    {
     "name": "stdout",
     "output_type": "stream",
     "text": [
      "Features with Positive Correlation:\n",
      "  Feature 1 Feature 2  Correlation\n",
      "0       age      chol     0.213678\n"
     ]
    },
    {
     "data": {
      "image/png": "[encoded data removed]",
      "text/plain": [
       "<Figure size 1000x600 with 2 Axes>"
      ]
     },
     "metadata": {},
     "output_type": "display_data"
    }
   ],
   "source": [
    "# Select the variables of interest\n",
    "variables_of_interest = ['age', 'chol', 'thalach']\n",
    "\n",
    "# Calculate the correlation matrix\n",
    "correlation_matrix = heart_data[variables_of_interest].corr()\n",
    "# Filter the correlation matrix to include only positive correlations\n",
    "positive_correlation_matrix = correlation_matrix[correlation_matrix > 0]\n",
    "\n",
    "# Find feature pairs with positive correlation\n",
    "positive_correlation_features = positive_correlation_matrix[positive_correlation_matrix < 1].stack().reset_index()\n",
    "\n",
    "# Rename the columns\n",
    "positive_correlation_features.columns = ['Feature 1', 'Feature 2', 'Correlation']\n",
    "\n",
    "# Filter out duplicate pairs and sort by correlation coefficient\n",
    "positive_correlation_features = positive_correlation_features.drop_duplicates(subset='Correlation', keep='first').sort_values(by='Correlation', ascending=False)\n",
    "\n",
    "# Print the features with positive correlation\n",
    "print(\"Features with Positive Correlation:\")\n",
    "print(positive_correlation_features)\n",
    "\n",
    "# Plot the heatmap\n",
    "plt.figure(figsize=(10, 6))\n",
    "sns.heatmap(correlation_matrix, annot=True, cmap='coolwarm', fmt=\".2f\", linewidths=0.5)\n",
    "plt.title('Correlation Heatmap of Age, Cholesterol Levels, and Maximum Heart Rate')\n",
    "plt.show()\n"
   ]
  },
  {
   "cell_type": "code",
   "execution_count": null,
   "id": "76e0081d-c1a5-4c55-921e-8bf7e3efc19d",
   "metadata": {},
   "outputs": [],
   "source": []
  },
  {
   "cell_type": "code",
   "execution_count": 17,
   "id": "9bb695d8-2a8d-4eb8-b41f-8dd3609ce6d6",
   "metadata": {},
   "outputs": [],
   "source": [
    "#Splitting the data into training data and Test data"
   ]
  },
  {
   "cell_type": "code",
   "execution_count": 16,
   "id": "fe30275a-124a-47fa-b2e1-ee85482b9781",
   "metadata": {},
   "outputs": [],
   "source": [
    "X_train, X_test, Y_train, Y_test= train_test_split(X, Y, test_size=0.2, stratify=Y, random_state=2)"
   ]
  },
  {
   "cell_type": "code",
   "execution_count": 18,
   "id": "1875f071-fa59-4098-8f6a-17793e8a423f",
   "metadata": {},
   "outputs": [
    {
     "name": "stdout",
     "output_type": "stream",
     "text": [
      "(303, 13) (242, 13) (61, 13)\n"
     ]
    }
   ],
   "source": [
    "#Check data\n",
    "print(X.shape, X_train.shape, X_test.shape)"
   ]
  },
  {
   "cell_type": "code",
   "execution_count": 20,
   "id": "8bec1bb0-edd5-474e-ac9c-936444ef47f2",
   "metadata": {},
   "outputs": [],
   "source": [
    "#Model Training\n",
    "#Logistic Regression"
   ]
  },
  {
   "cell_type": "code",
   "execution_count": 22,
   "id": "f0e7454a-de31-4359-b72b-42fb878cb36e",
   "metadata": {},
   "outputs": [],
   "source": [
    "model= LogisticRegression()"
   ]
  },
  {
   "cell_type": "code",
   "execution_count": 22,
   "id": "9189a3f8-f710-4b80-9021-3d11b1df5984",
   "metadata": {},
   "outputs": [],
   "source": [
    "#Training the LogisticRegression model with the training data and Test data"
   ]
  },
  {
   "cell_type": "code",
   "execution_count": 24,
   "id": "a4e2ced8-d180-4779-ae85-e8f3e0488b42",
   "metadata": {},
   "outputs": [
    {
     "name": "stderr",
     "output_type": "stream",
     "text": [
      "/opt/conda/envs/anaconda-panel-2023.05-py310/lib/python3.11/site-packages/sklearn/linear_model/_logistic.py:460: ConvergenceWarning: lbfgs failed to converge (status=1):\n",
      "STOP: TOTAL NO. of ITERATIONS REACHED LIMIT.\n",
      "\n",
      "Increase the number of iterations (max_iter) or scale the data as shown in:\n",
      "    https://scikit-learn.org/stable/modules/preprocessing.html\n",
      "Please also refer to the documentation for alternative solver options:\n",
      "    https://scikit-learn.org/stable/modules/linear_model.html#logistic-regression\n",
      "  n_iter_i = _check_optimize_result(\n"
     ]
    },
    {
     "data": {
      "text/html": [
       "<style>#sk-container-id-1 {color: black;}#sk-container-id-1 pre{padding: 0;}#sk-container-id-1 div.sk-toggleable {background-color: white;}#sk-container-id-1 label.sk-toggleable__label {cursor: pointer;display: block;width: 100%;margin-bottom: 0;padding: 0.3em;box-sizing: border-box;text-align: center;}#sk-container-id-1 label.sk-toggleable__label-arrow:before {content: \"▸\";float: left;margin-right: 0.25em;color: #696969;}#sk-container-id-1 label.sk-toggleable__label-arrow:hover:before {color: black;}#sk-container-id-1 div.sk-estimator:hover label.sk-toggleable__label-arrow:before {color: black;}#sk-container-id-1 div.sk-toggleable__content {max-height: 0;max-width: 0;overflow: hidden;text-align: left;background-color: #f0f8ff;}#sk-container-id-1 div.sk-toggleable__content pre {margin: 0.2em;color: black;border-radius: 0.25em;background-color: #f0f8ff;}#sk-container-id-1 input.sk-toggleable__control:checked~div.sk-toggleable__content {max-height: 200px;max-width: 100%;overflow: auto;}#sk-container-id-1 input.sk-toggleable__control:checked~label.sk-toggleable__label-arrow:before {content: \"▾\";}#sk-container-id-1 div.sk-estimator input.sk-toggleable__control:checked~label.sk-toggleable__label {background-color: #d4ebff;}#sk-container-id-1 div.sk-label input.sk-toggleable__control:checked~label.sk-toggleable__label {background-color: #d4ebff;}#sk-container-id-1 input.sk-hidden--visually {border: 0;clip: rect(1px 1px 1px 1px);clip: rect(1px, 1px, 1px, 1px);height: 1px;margin: -1px;overflow: hidden;padding: 0;position: absolute;width: 1px;}#sk-container-id-1 div.sk-estimator {font-family: monospace;background-color: #f0f8ff;border: 1px dotted black;border-radius: 0.25em;box-sizing: border-box;margin-bottom: 0.5em;}#sk-container-id-1 div.sk-estimator:hover {background-color: #d4ebff;}#sk-container-id-1 div.sk-parallel-item::after {content: \"\";width: 100%;border-bottom: 1px solid gray;flex-grow: 1;}#sk-container-id-1 div.sk-label:hover label.sk-toggleable__label {background-color: #d4ebff;}#sk-container-id-1 div.sk-serial::before {content: \"\";position: absolute;border-left: 1px solid gray;box-sizing: border-box;top: 0;bottom: 0;left: 50%;z-index: 0;}#sk-container-id-1 div.sk-serial {display: flex;flex-direction: column;align-items: center;background-color: white;padding-right: 0.2em;padding-left: 0.2em;position: relative;}#sk-container-id-1 div.sk-item {position: relative;z-index: 1;}#sk-container-id-1 div.sk-parallel {display: flex;align-items: stretch;justify-content: center;background-color: white;position: relative;}#sk-container-id-1 div.sk-item::before, #sk-container-id-1 div.sk-parallel-item::before {content: \"\";position: absolute;border-left: 1px solid gray;box-sizing: border-box;top: 0;bottom: 0;left: 50%;z-index: -1;}#sk-container-id-1 div.sk-parallel-item {display: flex;flex-direction: column;z-index: 1;position: relative;background-color: white;}#sk-container-id-1 div.sk-parallel-item:first-child::after {align-self: flex-end;width: 50%;}#sk-container-id-1 div.sk-parallel-item:last-child::after {align-self: flex-start;width: 50%;}#sk-container-id-1 div.sk-parallel-item:only-child::after {width: 0;}#sk-container-id-1 div.sk-dashed-wrapped {border: 1px dashed gray;margin: 0 0.4em 0.5em 0.4em;box-sizing: border-box;padding-bottom: 0.4em;background-color: white;}#sk-container-id-1 div.sk-label label {font-family: monospace;font-weight: bold;display: inline-block;line-height: 1.2em;}#sk-container-id-1 div.sk-label-container {text-align: center;}#sk-container-id-1 div.sk-container {/* jupyter's `normalize.less` sets `[hidden] { display: none; }` but bootstrap.min.css set `[hidden] { display: none !important; }` so we also need the `!important` here to be able to override the default hidden behavior on the sphinx rendered scikit-learn.org. See: https://github.com/scikit-learn/scikit-learn/issues/21755 */display: inline-block !important;position: relative;}#sk-container-id-1 div.sk-text-repr-fallback {display: none;}</style><div id=\"sk-container-id-1\" class=\"sk-top-container\"><div class=\"sk-text-repr-fallback\"><pre>LogisticRegression()</pre><b>In a Jupyter environment, please rerun this cell to show the HTML representation or trust the notebook. <br />On GitHub, the HTML representation is unable to render, please try loading this page with nbviewer.org.</b></div><div class=\"sk-container\" hidden><div class=\"sk-item\"><div class=\"sk-estimator sk-toggleable\"><input class=\"sk-toggleable__control sk-hidden--visually\" id=\"sk-estimator-id-1\" type=\"checkbox\" checked><label for=\"sk-estimator-id-1\" class=\"sk-toggleable__label sk-toggleable__label-arrow\">LogisticRegression</label><div class=\"sk-toggleable__content\"><pre>LogisticRegression()</pre></div></div></div></div></div>"
      ],
      "text/plain": [
       "LogisticRegression()"
      ]
     },
     "execution_count": 24,
     "metadata": {},
     "output_type": "execute_result"
    }
   ],
   "source": [
    "model.fit(X_train, Y_train)"
   ]
  },
  {
   "cell_type": "code",
   "execution_count": 24,
   "id": "724d1db0-5412-4bb8-8523-345a0594caea",
   "metadata": {},
   "outputs": [],
   "source": [
    "#Model Evaluation"
   ]
  },
  {
   "cell_type": "code",
   "execution_count": 25,
   "id": "e2686f2c-3450-4190-a35a-e7a8332c4d76",
   "metadata": {},
   "outputs": [
    {
     "name": "stdout",
     "output_type": "stream",
     "text": [
      "Accuracy on Training data:  0.8512396694214877\n"
     ]
    }
   ],
   "source": [
    "#Accuracy on training data\n",
    "X_train_prediction = model.predict(X_train)\n",
    "training_data_accuracy = accuracy_score(X_train_prediction, Y_train)\n",
    "print('Accuracy on Training data: ', training_data_accuracy)"
   ]
  },
  {
   "cell_type": "code",
   "execution_count": 26,
   "id": "8feef82d-96c4-4f4c-8e70-75a7f1285c78",
   "metadata": {},
   "outputs": [
    {
     "name": "stdout",
     "output_type": "stream",
     "text": [
      "Accuracy on Training data:  0.819672131147541\n"
     ]
    }
   ],
   "source": [
    "#Accuracy on Test data\n",
    "X_test_prediction = model.predict(X_test)\n",
    "test_data_accuracy = accuracy_score(X_test_prediction, Y_test)\n",
    "print('Accuracy on Training data: ', test_data_accuracy)"
   ]
  },
  {
   "cell_type": "code",
   "execution_count": 27,
   "id": "b0feb59a-4fb3-480a-8c99-4077ea9d3792",
   "metadata": {},
   "outputs": [],
   "source": [
    "#Building a predictive system"
   ]
  },
  {
   "cell_type": "code",
   "execution_count": 28,
   "id": "5281d79e-6c6b-4b6e-9bf2-990037483733",
   "metadata": {},
   "outputs": [
    {
     "name": "stdout",
     "output_type": "stream",
     "text": [
      "[0]\n",
      "The person does not have a Heart Disease\n"
     ]
    },
    {
     "name": "stderr",
     "output_type": "stream",
     "text": [
      "/opt/conda/envs/anaconda-panel-2023.05-py310/lib/python3.11/site-packages/sklearn/base.py:464: UserWarning: X does not have valid feature names, but LogisticRegression was fitted with feature names\n",
      "  warnings.warn(\n"
     ]
    }
   ],
   "source": [
    "input_data  =(50,1,0,150,243,0,0,128,0,2.6,1,0,3)\n",
    "\n",
    "#Change the input data to a numpy array\n",
    "input_data_as_numpy_array=np.asarray(input_data)\n",
    "\n",
    "#Reshape the numpy as we are predicting for only one instance\n",
    "input_data_reshaped = input_data_as_numpy_array.reshape(1,-1)\n",
    "\n",
    "prediction = model.predict(input_data_reshaped)\n",
    "print(prediction)\n",
    "\n",
    "if (prediction[0]==0):\n",
    "    print('The person does not have a Heart Disease')\n",
    "else:\n",
    "    print('The person has Heart Disease')"
   ]
  },
  {
   "cell_type": "code",
   "execution_count": 29,
   "id": "09faa8b2-4b9b-496f-8989-6a6858a9c415",
   "metadata": {},
   "outputs": [],
   "source": [
    "#Training the Random Forest model with the training data and test data"
   ]
  },
  {
   "cell_type": "code",
   "execution_count": 30,
   "id": "96d0ea8b-0895-4174-b328-4d41bdc45a6f",
   "metadata": {},
   "outputs": [
    {
     "ename": "NameError",
     "evalue": "name 'rf_train_predictions' is not defined",
     "output_type": "error",
     "traceback": [
      "\u001b[0;31m---------------------------------------------------------------------------\u001b[0m",
      "\u001b[0;31mNameError\u001b[0m                                 Traceback (most recent call last)",
      "Cell \u001b[0;32mIn[30], line 4\u001b[0m\n\u001b[1;32m      1\u001b[0m \u001b[38;5;28;01mfrom\u001b[39;00m \u001b[38;5;21;01msklearn\u001b[39;00m\u001b[38;5;21;01m.\u001b[39;00m\u001b[38;5;21;01mmetrics\u001b[39;00m \u001b[38;5;28;01mimport\u001b[39;00m precision_score, recall_score, f1_score\n\u001b[1;32m      3\u001b[0m \u001b[38;5;66;03m# Precision on training data\u001b[39;00m\n\u001b[0;32m----> 4\u001b[0m rf_training_precision \u001b[38;5;241m=\u001b[39m precision_score(Y_train, rf_train_predictions)\n\u001b[1;32m      6\u001b[0m \u001b[38;5;66;03m# Recall on training data\u001b[39;00m\n\u001b[1;32m      7\u001b[0m rf_training_recall \u001b[38;5;241m=\u001b[39m recall_score(Y_train, rf_train_predictions)\n",
      "\u001b[0;31mNameError\u001b[0m: name 'rf_train_predictions' is not defined"
     ]
    }
   ],
   "source": [
    "from sklearn.metrics import precision_score, recall_score, f1_score\n",
    "\n",
    "# Precision on training data\n",
    "rf_training_precision = precision_score(Y_train, rf_train_predictions)\n",
    "\n",
    "# Recall on training data\n",
    "rf_training_recall = recall_score(Y_train, rf_train_predictions)\n",
    "\n",
    "# F1-score on training data\n",
    "rf_training_f1_score = f1_score(Y_train, rf_train_predictions)\n",
    "\n",
    "print('Precision on Training data:', rf_training_precision)\n",
    "print('Recall on Training data:', rf_training_recall)\n",
    "print('F1-score on Training data:', rf_training_f1_score)\n",
    "\n",
    "# Precision on test data\n",
    "rf_test_precision = precision_score(Y_test, rf_test_predictions)\n",
    "\n",
    "# Recall on test data\n",
    "rf_test_recall = recall_score(Y_test, rf_test_predictions)\n",
    "\n",
    "# F1-score on test data\n",
    "rf_test_f1_score = f1_score(Y_test, rf_test_predictions)\n",
    "\n",
    "print('Precision on Test data:', rf_test_precision)\n",
    "print('Recall on Test data:', rf_test_recall)\n",
    "print('F1-score on Test data:', rf_test_f1_score)\n",
    "\n",
    "\n"
   ]
  },
  {
   "cell_type": "code",
   "execution_count": null,
   "id": "2a83ca79-2194-4c2d-bb35-d254dc723454",
   "metadata": {},
   "outputs": [],
   "source": [
    "#Building a predictive system"
   ]
  },
  {
   "cell_type": "code",
   "execution_count": null,
   "id": "f7a8b4d1-53dc-46e8-89bf-22dff5d01713",
   "metadata": {},
   "outputs": [],
   "source": [
    "import numpy as np\n",
    "\n",
    "# Change the input data to a numpy array\n",
    "input_data = (50, 1, 0, 150, 243, 0, 0, 128, 0, 2.6, 1, 0, 3)\n",
    "input_data_as_numpy_array = np.asarray(input_data)\n",
    "\n",
    "# Reshape the numpy array as we are predicting for only one instance\n",
    "input_data_reshaped = input_data_as_numpy_array.reshape(1, -1)\n",
    "\n",
    "# Predict using the trained model\n",
    "prediction = rf_classifier.predict(input_data_reshaped)\n",
    "\n",
    "# Print the prediction\n",
    "if prediction[0] == 0:\n",
    "    print('The person does not have heart disease.')\n",
    "else:\n",
    "    print('The person has heart disease.')\n"
   ]
  },
  {
   "cell_type": "code",
   "execution_count": null,
   "id": "eb3b8ceb-c1ac-4bd5-a3e1-a5429bb5ef80",
   "metadata": {},
   "outputs": [],
   "source": [
    "#Training the Support Vector Machine model with the training data and test data"
   ]
  },
  {
   "cell_type": "code",
   "execution_count": null,
   "id": "a4b48096-6dd6-4245-bdd7-4ec55dbad065",
   "metadata": {},
   "outputs": [],
   "source": [
    "from sklearn.svm import SVC\n",
    "from sklearn.metrics import precision_score, recall_score, f1_score\n",
    "\n",
    "# Initialize the Support Vector Machine Classifier\n",
    "svm_classifier = SVC(kernel='linear', random_state=42)\n",
    "\n",
    "# Train the classifier on the training data\n",
    "svm_classifier.fit(X_train, Y_train)\n",
    "\n",
    "# Make predictions on training data\n",
    "svm_train_predictions = svm_classifier.predict(X_train)\n",
    "\n",
    "# Make predictions on test data\n",
    "svm_test_predictions = svm_classifier.predict(X_test)\n",
    "\n",
    "# Precision on training data\n",
    "svm_training_precision = precision_score(Y_train, svm_train_predictions)\n",
    "\n",
    "# Recall on training data\n",
    "svm_training_recall = recall_score(Y_train, svm_train_predictions)\n",
    "\n",
    "# F1-score on training data\n",
    "svm_training_f1_score = f1_score(Y_train, svm_train_predictions)\n",
    "\n",
    "print('Precision on Training data:', svm_training_precision)\n",
    "print('Recall on Training data:', svm_training_recall)\n",
    "print('F1-score on Training data:', svm_training_f1_score)\n",
    "\n",
    "# Precision on test data\n",
    "svm_test_precision = precision_score(Y_test, svm_test_predictions)\n",
    "\n",
    "# Recall on test data\n",
    "svm_test_recall = recall_score(Y_test, svm_test_predictions)\n",
    "\n",
    "# F1-score on test data\n",
    "svm_test_f1_score = f1_score(Y_test, svm_test_predictions)\n",
    "\n",
    "print('Precision on Test data:', svm_test_precision)\n",
    "print('Recall on Test data:', svm_test_recall)\n",
    "print('F1-score on Test data:', svm_test_f1_score)\n"
   ]
  },
  {
   "cell_type": "code",
   "execution_count": null,
   "id": "562774c4-c62d-4c18-9418-f99511437558",
   "metadata": {},
   "outputs": [],
   "source": [
    "#Training the K Nearest Neighbours model with the training data and test data"
   ]
  },
  {
   "cell_type": "code",
   "execution_count": null,
   "id": "dc7002e8-ef47-44f1-b6c2-a447777e7b9c",
   "metadata": {},
   "outputs": [],
   "source": [
    "from sklearn.neighbors import KNeighborsClassifier\n",
    "from sklearn.metrics import precision_score, recall_score, f1_score\n",
    "\n",
    "# Initialize the K Nearest Neighbors Classifier\n",
    "knn_classifier = KNeighborsClassifier(n_neighbors=5)\n",
    "\n",
    "# Train the classifier on the training data\n",
    "knn_classifier.fit(X_train, Y_train)\n",
    "\n",
    "# Make predictions on training data\n",
    "knn_train_predictions = knn_classifier.predict(X_train)\n",
    "\n",
    "# Make predictions on test data\n",
    "knn_test_predictions = knn_classifier.predict(X_test)\n",
    "\n",
    "# Precision on training data\n",
    "knn_training_precision = precision_score(Y_train, knn_train_predictions)\n",
    "\n",
    "# Recall on training data\n",
    "knn_training_recall = recall_score(Y_train, knn_train_predictions)\n",
    "\n",
    "# F1-score on training data\n",
    "knn_training_f1_score = f1_score(Y_train, knn_train_predictions)\n",
    "\n",
    "print('Precision on Training data:', knn_training_precision)\n",
    "print('Recall on Training data:', knn_training_recall)\n",
    "print('F1-score on Training data:', knn_training_f1_score)\n",
    "\n",
    "# Precision on test data\n",
    "knn_test_precision = precision_score(Y_test, knn_test_predictions)\n",
    "\n",
    "# Recall on test data\n",
    "knn_test_recall = recall_score(Y_test, knn_test_predictions)\n",
    "\n",
    "# F1-score on test data\n",
    "knn_test_f1_score = f1_score(Y_test, knn_test_predictions)\n",
    "\n",
    "print('Precision on Test data:', knn_test_precision)\n",
    "print('Recall on Test data:', knn_test_recall)\n",
    "print('F1-score on Test data:', knn_test_f1_score)\n"
   ]
  },
  {
   "cell_type": "code",
   "execution_count": null,
   "id": "dfeef420-5849-47d7-994e-33a76a1098bf",
   "metadata": {},
   "outputs": [],
   "source": [
    "#Training the XG Boost model with the training data and test data"
   ]
  },
  {
   "cell_type": "code",
   "execution_count": null,
   "id": "9d4d5507-2c0e-4b09-900b-cbbdcf51ba48",
   "metadata": {},
   "outputs": [],
   "source": [
    "pip install xgboost"
   ]
  },
  {
   "cell_type": "code",
   "execution_count": 71,
   "id": "ac4a00a5-d1d0-49af-b3c2-582d42e703d8",
   "metadata": {},
   "outputs": [
    {
     "name": "stdout",
     "output_type": "stream",
     "text": [
      "Precision on Training data: 1.0\n",
      "Recall on Training data: 1.0\n",
      "F1-score on Training data: 1.0\n",
      "Precision on Test data: 0.78125\n",
      "Recall on Test data: 0.7575757575757576\n",
      "F1-score on Test data: 0.7692307692307692\n"
     ]
    }
   ],
   "source": [
    "import xgboost as xgb\n",
    "from sklearn.metrics import precision_score, recall_score, f1_score\n",
    "\n",
    "# Initialize the XGBoost Classifier\n",
    "xgb_classifier = xgb.XGBClassifier()\n",
    "\n",
    "# Train the classifier on the training data\n",
    "xgb_classifier.fit(X_train, Y_train)\n",
    "\n",
    "# Make predictions on training data\n",
    "xgb_train_predictions = xgb_classifier.predict(X_train)\n",
    "\n",
    "# Make predictions on test data\n",
    "xgb_test_predictions = xgb_classifier.predict(X_test)\n",
    "\n",
    "# Precision on training data\n",
    "xgb_training_precision = precision_score(Y_train, xgb_train_predictions)\n",
    "\n",
    "# Recall on training data\n",
    "xgb_training_recall = recall_score(Y_train, xgb_train_predictions)\n",
    "\n",
    "# F1-score on training data\n",
    "xgb_training_f1_score = f1_score(Y_train, xgb_train_predictions)\n",
    "\n",
    "print('Precision on Training data:', xgb_training_precision)\n",
    "print('Recall on Training data:', xgb_training_recall)\n",
    "print('F1-score on Training data:', xgb_training_f1_score)\n",
    "\n",
    "# Precision on test data\n",
    "xgb_test_precision = precision_score(Y_test, xgb_test_predictions)\n",
    "\n",
    "# Recall on test data\n",
    "xgb_test_recall = recall_score(Y_test, xgb_test_predictions)\n",
    "\n",
    "# F1-score on test data\n",
    "xgb_test_f1_score = f1_score(Y_test, xgb_test_predictions)\n",
    "\n",
    "print('Precision on Test data:', xgb_test_precision)\n",
    "print('Recall on Test data:', xgb_test_recall)\n",
    "print('F1-score on Test data:', xgb_test_f1_score)\n"
   ]
  },
  {
   "cell_type": "code",
   "execution_count": 75,
   "id": "99d17be0-f336-4fb9-bee7-7122c1002583",
   "metadata": {},
   "outputs": [
    {
     "name": "stdout",
     "output_type": "stream",
     "text": [
      "The person does not have heart disease.\n"
     ]
    }
   ],
   "source": [
    "import numpy as np\n",
    "from xgboost import XGBClassifier\n",
    "\n",
    "# Assuming X_train and y_train are your training data\n",
    "# Initialize and train the XGBoost model\n",
    "xgb_classifier = XGBClassifier()\n",
    "xgb_classifier.fit(X_train, Y_train)\n",
    "\n",
    "# Define the input data\n",
    "input_data = np.array([(50, 1, 0, 150, 243, 0, 0, 128, 0, 2.6, 1, 0, 3)])\n",
    "\n",
    "# Reshape the input data as we are predicting for only one instance\n",
    "input_data_reshaped = input_data.reshape(1, -1)\n",
    "\n",
    "# Make predictions using the trained model\n",
    "prediction = xgb_classifier.predict(input_data_reshaped)\n",
    "\n",
    "# Print the prediction\n",
    "if prediction[0] == 0:\n",
    "    print('The person does not have heart disease.')\n",
    "else:\n",
    "    print('The person has heart disease.')\n"
   ]
  },
  {
   "cell_type": "code",
   "execution_count": 32,
   "id": "140db81f-ec12-47e6-94d2-4ef8a74bb25b",
   "metadata": {},
   "outputs": [
    {
     "name": "stdout",
     "output_type": "stream",
     "text": [
      "Random Forest - Test Accuracy: 0.8032786885245902\n",
      "XGBoost - Test Accuracy: 0.7540983606557377\n",
      "Random Forest is the best-performing model.\n"
     ]
    }
   ],
   "source": [
    "from sklearn.metrics import accuracy_score\n",
    "from sklearn.ensemble import RandomForestClassifier\n",
    "from xgboost import XGBClassifier\n",
    "\n",
    "# Initialize and train Random Forest Classifier\n",
    "rf_classifier = RandomForestClassifier(n_estimators=100, random_state=42)\n",
    "rf_classifier.fit(X_train, Y_train)\n",
    "\n",
    "# Make predictions using Random Forest\n",
    "rf_test_predictions = rf_classifier.predict(X_test)\n",
    "\n",
    "# Calculate accuracy for Random Forest\n",
    "rf_test_accuracy = accuracy_score(Y_test, rf_test_predictions)\n",
    "\n",
    "print('Random Forest - Test Accuracy:', rf_test_accuracy)\n",
    "\n",
    "# Initialize and train XGBoost Classifier\n",
    "xgb_classifier = XGBClassifier()\n",
    "xgb_classifier.fit(X_train, Y_train)\n",
    "\n",
    "# Make predictions using XGBoost\n",
    "xgb_test_predictions = xgb_classifier.predict(X_test)\n",
    "\n",
    "# Calculate accuracy for XGBoost\n",
    "xgb_test_accuracy = accuracy_score(Y_test, xgb_test_predictions)\n",
    "\n",
    "print('XGBoost - Test Accuracy:', xgb_test_accuracy)\n",
    "\n",
    "# Compare accuracies and select the best model\n",
    "if rf_test_accuracy > xgb_test_accuracy:\n",
    "    print('Random Forest is the best-performing model.')\n",
    "elif rf_test_accuracy < xgb_test_accuracy:\n",
    "    print('XGBoost is the best-performing model.')\n",
    "else:\n",
    "    print('Both Random Forest and XGBoost have the same accuracy.')\n"
   ]
  },
  {
   "cell_type": "code",
   "execution_count": 38,
   "id": "e4e09597-38bf-4523-acd1-4ea4b8d8a864",
   "metadata": {},
   "outputs": [
    {
     "name": "stdout",
     "output_type": "stream",
     "text": [
      "Accuracy: 0.8360655737704918\n"
     ]
    }
   ],
   "source": [
    "from sklearn.ensemble import RandomForestClassifier\n",
    "from sklearn.model_selection import train_test_split\n",
    "from sklearn.metrics import accuracy_score\n",
    "\n",
    "# Assuming X and y are your features and target variable respectively\n",
    "# Split the data into training and testing sets\n",
    "X_train, X_test, Y_train, Y_test = train_test_split(X, Y, test_size=0.2, random_state=42)\n",
    "\n",
    "# Initialize the Random Forest Classifier\n",
    "rf_classifier = RandomForestClassifier(n_estimators=100, random_state=42)\n",
    "\n",
    "# Train the classifier on the training data\n",
    "rf_classifier.fit(X_train, Y_train)\n",
    "\n",
    "# Make predictions on the test data\n",
    "Y_pred = rf_classifier.predict(X_test)\n",
    "\n",
    "# Calculate accuracy\n",
    "accuracy = accuracy_score(Y_test, Y_pred)\n",
    "print('Accuracy:', accuracy)\n"
   ]
  },
  {
   "cell_type": "code",
   "execution_count": 46,
   "id": "7f9f6b95-c832-4ea6-8408-1874c96e108d",
   "metadata": {},
   "outputs": [
    {
     "name": "stdout",
     "output_type": "stream",
     "text": [
      "The person does not have Heart Disease\n"
     ]
    },
    {
     "name": "stderr",
     "output_type": "stream",
     "text": [
      "/opt/conda/envs/anaconda-panel-2023.05-py310/lib/python3.11/site-packages/sklearn/base.py:464: UserWarning: X does not have valid feature names, but RandomForestClassifier was fitted with feature names\n",
      "  warnings.warn(\n"
     ]
    }
   ],
   "source": [
    "import numpy as np\n",
    "from sklearn.ensemble import RandomForestClassifier\n",
    "\n",
    "# Assuming X_train and y_train are your training data\n",
    "# Initialize the Random Forest Classifier\n",
    "rf_classifier = RandomForestClassifier(n_estimators=100, random_state=42)\n",
    "\n",
    "# Train the classifier on the training data\n",
    "rf_classifier.fit(X_train, Y_train)\n",
    "\n",
    "# Input data\n",
    "input_data = np.array([[50, 1, 0, 150, 243, 0, 0, 128, 0, 2.6, 1, 0, 3]])\n",
    "\n",
    "# Make prediction using the trained Random Forest model\n",
    "prediction = rf_classifier.predict(input_data)\n",
    "\n",
    "# Print prediction\n",
    "if prediction[0] == 0:\n",
    "    print('The person does not have Heart Disease')\n",
    "else:\n",
    "    print('The person has Heart Disease')\n"
   ]
  },
  {
   "cell_type": "code",
   "execution_count": null,
   "id": "f3c67a49-ec81-4566-99bc-1b7f1a36a37d",
   "metadata": {},
   "outputs": [],
   "source": []
  }
 ],
 "metadata": {
  "kernelspec": {
   "display_name": "anaconda-panel-2023.05-py310",
   "language": "python",
   "name": "conda-env-anaconda-panel-2023.05-py310-py"
  },
  "language_info": {
   "codemirror_mode": {
    "name": "ipython",
    "version": 3
   },
   "file_extension": ".py",
   "mimetype": "text/x-python",
   "name": "python",
   "nbconvert_exporter": "python",
   "pygments_lexer": "ipython3",
   "version": "3.11.5"
  }
 },
 "nbformat": 4,
 "nbformat_minor": 5
}
